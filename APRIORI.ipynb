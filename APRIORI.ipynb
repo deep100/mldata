{
  "nbformat": 4,
  "nbformat_minor": 0,
  "metadata": {
    "colab": {
      "name": "APRIORI.ipynb",
      "provenance": [],
      "collapsed_sections": [],
      "authorship_tag": "ABX9TyPzSRoiMDfx9cFtIcijcwLm",
      "include_colab_link": true
    },
    "kernelspec": {
      "name": "python3",
      "display_name": "Python 3"
    }
  },
  "cells": [
    {
      "cell_type": "markdown",
      "metadata": {
        "id": "view-in-github",
        "colab_type": "text"
      },
      "source": [
        "<a href=\"https://colab.research.google.com/github/deep100/mldata/blob/master/APRIORI.ipynb\" target=\"_parent\"><img src=\"https://colab.research.google.com/assets/colab-badge.svg\" alt=\"Open In Colab\"/></a>"
      ]
    },
    {
      "cell_type": "code",
      "metadata": {
        "id": "cwpyyjVPRjbs",
        "colab_type": "code",
        "colab": {}
      },
      "source": [
        "import numpy as np \n",
        "import pandas as pd \n",
        "from mlxtend.frequent_patterns import apriori, association_rules "
      ],
      "execution_count": 0,
      "outputs": []
    },
    {
      "cell_type": "code",
      "metadata": {
        "id": "c5eIoIMVRz--",
        "colab_type": "code",
        "colab": {
          "base_uri": "https://localhost:8080/",
          "height": 428
        },
        "outputId": "2bfff9bb-1ab8-45c6-b835-0995ceb19541"
      },
      "source": [
        "# Changing the working location to the location of the file \n",
        "#cd C:\\Users\\Dev\\Desktop\\Kaggle\\Apriori Algorithm \n",
        "\n",
        "# Loading the Data \n",
        "data = pd.read_excel(\"https://github.com/deep100/mldata/raw/master/Online%20Retail.xlsx\") \n",
        "data.head() "
      ],
      "execution_count": 2,
      "outputs": [
        {
          "output_type": "execute_result",
          "data": {
            "text/html": [
              "<div>\n",
              "<style scoped>\n",
              "    .dataframe tbody tr th:only-of-type {\n",
              "        vertical-align: middle;\n",
              "    }\n",
              "\n",
              "    .dataframe tbody tr th {\n",
              "        vertical-align: top;\n",
              "    }\n",
              "\n",
              "    .dataframe thead th {\n",
              "        text-align: right;\n",
              "    }\n",
              "</style>\n",
              "<table border=\"1\" class=\"dataframe\">\n",
              "  <thead>\n",
              "    <tr style=\"text-align: right;\">\n",
              "      <th></th>\n",
              "      <th>InvoiceNo</th>\n",
              "      <th>StockCode</th>\n",
              "      <th>Description</th>\n",
              "      <th>Quantity</th>\n",
              "      <th>InvoiceDate</th>\n",
              "      <th>UnitPrice</th>\n",
              "      <th>CustomerID</th>\n",
              "      <th>Country</th>\n",
              "    </tr>\n",
              "  </thead>\n",
              "  <tbody>\n",
              "    <tr>\n",
              "      <th>0</th>\n",
              "      <td>536365</td>\n",
              "      <td>85123A</td>\n",
              "      <td>WHITE HANGING HEART T-LIGHT HOLDER</td>\n",
              "      <td>6</td>\n",
              "      <td>2010-12-01 08:26:00</td>\n",
              "      <td>2.55</td>\n",
              "      <td>17850.0</td>\n",
              "      <td>United Kingdom</td>\n",
              "    </tr>\n",
              "    <tr>\n",
              "      <th>1</th>\n",
              "      <td>536365</td>\n",
              "      <td>71053</td>\n",
              "      <td>WHITE METAL LANTERN</td>\n",
              "      <td>6</td>\n",
              "      <td>2010-12-01 08:26:00</td>\n",
              "      <td>3.39</td>\n",
              "      <td>17850.0</td>\n",
              "      <td>United Kingdom</td>\n",
              "    </tr>\n",
              "    <tr>\n",
              "      <th>2</th>\n",
              "      <td>536365</td>\n",
              "      <td>84406B</td>\n",
              "      <td>CREAM CUPID HEARTS COAT HANGER</td>\n",
              "      <td>8</td>\n",
              "      <td>2010-12-01 08:26:00</td>\n",
              "      <td>2.75</td>\n",
              "      <td>17850.0</td>\n",
              "      <td>United Kingdom</td>\n",
              "    </tr>\n",
              "    <tr>\n",
              "      <th>3</th>\n",
              "      <td>536365</td>\n",
              "      <td>84029G</td>\n",
              "      <td>KNITTED UNION FLAG HOT WATER BOTTLE</td>\n",
              "      <td>6</td>\n",
              "      <td>2010-12-01 08:26:00</td>\n",
              "      <td>3.39</td>\n",
              "      <td>17850.0</td>\n",
              "      <td>United Kingdom</td>\n",
              "    </tr>\n",
              "    <tr>\n",
              "      <th>4</th>\n",
              "      <td>536365</td>\n",
              "      <td>84029E</td>\n",
              "      <td>RED WOOLLY HOTTIE WHITE HEART.</td>\n",
              "      <td>6</td>\n",
              "      <td>2010-12-01 08:26:00</td>\n",
              "      <td>3.39</td>\n",
              "      <td>17850.0</td>\n",
              "      <td>United Kingdom</td>\n",
              "    </tr>\n",
              "  </tbody>\n",
              "</table>\n",
              "</div>"
            ],
            "text/plain": [
              "  InvoiceNo StockCode  ... CustomerID         Country\n",
              "0    536365    85123A  ...    17850.0  United Kingdom\n",
              "1    536365     71053  ...    17850.0  United Kingdom\n",
              "2    536365    84406B  ...    17850.0  United Kingdom\n",
              "3    536365    84029G  ...    17850.0  United Kingdom\n",
              "4    536365    84029E  ...    17850.0  United Kingdom\n",
              "\n",
              "[5 rows x 8 columns]"
            ]
          },
          "metadata": {
            "tags": []
          },
          "execution_count": 2
        }
      ]
    },
    {
      "cell_type": "code",
      "metadata": {
        "id": "GlT5wXKgR1Ol",
        "colab_type": "code",
        "colab": {
          "base_uri": "https://localhost:8080/",
          "height": 88
        },
        "outputId": "338fd21a-f59d-462c-ac61-a07c32178c96"
      },
      "source": [
        "# Exploring the columns of the data \n",
        "data.columns "
      ],
      "execution_count": 3,
      "outputs": [
        {
          "output_type": "execute_result",
          "data": {
            "text/plain": [
              "Index(['InvoiceNo', 'StockCode', 'Description', 'Quantity', 'InvoiceDate',\n",
              "       'UnitPrice', 'CustomerID', 'Country'],\n",
              "      dtype='object')"
            ]
          },
          "metadata": {
            "tags": []
          },
          "execution_count": 3
        }
      ]
    },
    {
      "cell_type": "code",
      "metadata": {
        "id": "Zvd30fhVR6QN",
        "colab_type": "code",
        "colab": {
          "base_uri": "https://localhost:8080/",
          "height": 174
        },
        "outputId": "15b30781-5af3-4c6f-f02d-13857ffba575"
      },
      "source": [
        "# Exploring the different regions of transactions \n",
        "data.Country.unique() "
      ],
      "execution_count": 4,
      "outputs": [
        {
          "output_type": "execute_result",
          "data": {
            "text/plain": [
              "array(['United Kingdom', 'France', 'Australia', 'Netherlands', 'Germany',\n",
              "       'Norway', 'EIRE', 'Switzerland', 'Spain', 'Poland', 'Portugal',\n",
              "       'Italy', 'Belgium', 'Lithuania', 'Japan', 'Iceland',\n",
              "       'Channel Islands', 'Denmark', 'Cyprus', 'Sweden', 'Austria',\n",
              "       'Israel', 'Finland', 'Bahrain', 'Greece', 'Hong Kong', 'Singapore',\n",
              "       'Lebanon', 'United Arab Emirates', 'Saudi Arabia',\n",
              "       'Czech Republic', 'Canada', 'Unspecified', 'Brazil', 'USA',\n",
              "       'European Community', 'Malta', 'RSA'], dtype=object)"
            ]
          },
          "metadata": {
            "tags": []
          },
          "execution_count": 4
        }
      ]
    },
    {
      "cell_type": "code",
      "metadata": {
        "id": "Ofm17lY1R80p",
        "colab_type": "code",
        "colab": {}
      },
      "source": [
        "# Stripping extra spaces in the description \n",
        "data['Description'] = data['Description'].str.strip() \n",
        "\n",
        "# Dropping the rows without any invoice number \n",
        "data.dropna(axis = 0, subset =['InvoiceNo'], inplace = True) \n",
        "data['InvoiceNo'] = data['InvoiceNo'].astype('str') \n",
        "\n",
        "# Dropping all transactions which were done on credit \n",
        "data = data[~data['InvoiceNo'].str.contains('C')]"
      ],
      "execution_count": 0,
      "outputs": []
    },
    {
      "cell_type": "code",
      "metadata": {
        "id": "chWUpIMfSDbC",
        "colab_type": "code",
        "colab": {}
      },
      "source": [
        "# Transactions done in France \n",
        "basket_France = (data[data['Country'] ==\"France\"] \n",
        "\t\t.groupby(['InvoiceNo', 'Description'])['Quantity'] \n",
        "\t\t.sum().unstack().reset_index().fillna(0) \n",
        "\t\t.set_index('InvoiceNo')) \n",
        "\n",
        "# Transactions done in the United Kingdom \n",
        "basket_UK = (data[data['Country'] ==\"United Kingdom\"] \n",
        "\t\t.groupby(['InvoiceNo', 'Description'])['Quantity'] \n",
        "\t\t.sum().unstack().reset_index().fillna(0) \n",
        "\t\t.set_index('InvoiceNo')) \n",
        "\n",
        "# Transactions done in Portugal \n",
        "basket_Por = (data[data['Country'] ==\"Portugal\"] \n",
        "\t\t.groupby(['InvoiceNo', 'Description'])['Quantity'] \n",
        "\t\t.sum().unstack().reset_index().fillna(0) \n",
        "\t\t.set_index('InvoiceNo')) \n",
        "\n",
        "basket_Sweden = (data[data['Country'] ==\"Sweden\"] \n",
        "\t\t.groupby(['InvoiceNo', 'Description'])['Quantity'] \n",
        "\t\t.sum().unstack().reset_index().fillna(0) \n",
        "\t\t.set_index('InvoiceNo')) "
      ],
      "execution_count": 0,
      "outputs": []
    },
    {
      "cell_type": "code",
      "metadata": {
        "id": "VxWRnfxeSGWM",
        "colab_type": "code",
        "colab": {}
      },
      "source": [
        "# Defining the hot encoding function to make the data suitable \n",
        "# for the concerned libraries \n",
        "def hot_encode(x): \n",
        "\tif(x<= 0): \n",
        "\t\treturn 0\n",
        "\tif(x>= 1): \n",
        "\t\treturn 1\n",
        "\n",
        "# Encoding the datasets \n",
        "basket_encoded = basket_France.applymap(hot_encode) \n",
        "basket_France = basket_encoded \n",
        "\n",
        "basket_encoded = basket_UK.applymap(hot_encode) \n",
        "basket_UK = basket_encoded \n",
        "\n",
        "basket_encoded = basket_Por.applymap(hot_encode) \n",
        "basket_Por = basket_encoded \n",
        "\n",
        "basket_encoded = basket_Sweden.applymap(hot_encode) \n",
        "basket_Sweden = basket_encoded "
      ],
      "execution_count": 0,
      "outputs": []
    },
    {
      "cell_type": "code",
      "metadata": {
        "id": "iicxE7K6SMSH",
        "colab_type": "code",
        "colab": {
          "base_uri": "https://localhost:8080/",
          "height": 174
        },
        "outputId": "2a118948-437d-461f-cdc0-3213a46c187c"
      },
      "source": [
        "# Building the model \n",
        "frq_items = apriori(basket_France, min_support = 0.05, use_colnames = True) \n",
        "\n",
        "# Collecting the inferred rules in a dataframe \n",
        "rules = association_rules(frq_items, metric =\"lift\", min_threshold = 1) \n",
        "rules = rules.sort_values(['confidence', 'lift'], ascending =[False, False]) \n",
        "print(rules.head()) "
      ],
      "execution_count": 8,
      "outputs": [
        {
          "output_type": "stream",
          "text": [
            "                                           antecedents  ... conviction\n",
            "44                        (JUMBO BAG WOODLAND ANIMALS)  ...        inf\n",
            "259  (PLASTERS IN TIN CIRCUS PARADE, RED TOADSTOOL ...  ...        inf\n",
            "271  (PLASTERS IN TIN WOODLAND ANIMALS, RED TOADSTO...  ...        inf\n",
            "300  (SET/20 RED RETROSPOT PAPER NAPKINS, SET/6 RED...  ...  34.897959\n",
            "301  (SET/20 RED RETROSPOT PAPER NAPKINS, SET/6 RED...  ...  34.489796\n",
            "\n",
            "[5 rows x 9 columns]\n"
          ],
          "name": "stdout"
        }
      ]
    },
    {
      "cell_type": "code",
      "metadata": {
        "id": "SEXcnVaDSNw8",
        "colab_type": "code",
        "colab": {
          "base_uri": "https://localhost:8080/",
          "height": 174
        },
        "outputId": "9719ef38-8269-432e-d816-4e7bf7c2e357"
      },
      "source": [
        "frq_items = apriori(basket_UK, min_support = 0.01, use_colnames = True) \n",
        "rules = association_rules(frq_items, metric =\"lift\", min_threshold = 1) \n",
        "rules = rules.sort_values(['confidence', 'lift'], ascending =[False, False]) \n",
        "print(rules.head()) "
      ],
      "execution_count": 9,
      "outputs": [
        {
          "output_type": "stream",
          "text": [
            "                                       antecedents  ... conviction\n",
            "117           (BEADED CRYSTAL HEART PINK ON STICK)  ...  39.637371\n",
            "2020  (JAM MAKING SET PRINTED, SUKI  SHOULDER BAG)  ...  26.096206\n",
            "2296         (HERB MARKER THYME, HERB MARKER MINT)  ...  21.947227\n",
            "2302   (HERB MARKER ROSEMARY, HERB MARKER PARSLEY)  ...  20.444951\n",
            "2301      (HERB MARKER THYME, HERB MARKER PARSLEY)  ...  20.443842\n",
            "\n",
            "[5 rows x 9 columns]\n"
          ],
          "name": "stdout"
        }
      ]
    },
    {
      "cell_type": "code",
      "metadata": {
        "id": "fPcMxAq6SMPL",
        "colab_type": "code",
        "colab": {
          "base_uri": "https://localhost:8080/",
          "height": 174
        },
        "outputId": "6bb53cf6-1fb7-4c21-95d6-e589bd428c46"
      },
      "source": [
        "frq_items = apriori(basket_Por, min_support = 0.05, use_colnames = True) \n",
        "rules = association_rules(frq_items, metric =\"lift\", min_threshold = 1) \n",
        "rules = rules.sort_values(['confidence', 'lift'], ascending =[False, False]) \n",
        "print(rules.head()) "
      ],
      "execution_count": 10,
      "outputs": [
        {
          "output_type": "stream",
          "text": [
            "                             antecedents  ... conviction\n",
            "1170  (SET 12 COLOUR PENCILS DOLLY GIRL)  ...        inf\n",
            "1171    (SET 12 COLOUR PENCILS SPACEBOY)  ...        inf\n",
            "1172  (SET 12 COLOUR PENCILS DOLLY GIRL)  ...        inf\n",
            "1173  (SET OF 4 KNICK KNACK TINS LONDON)  ...        inf\n",
            "1174  (SET 12 COLOUR PENCILS DOLLY GIRL)  ...        inf\n",
            "\n",
            "[5 rows x 9 columns]\n"
          ],
          "name": "stdout"
        }
      ]
    },
    {
      "cell_type": "code",
      "metadata": {
        "id": "09FdbFz0SHg1",
        "colab_type": "code",
        "colab": {
          "base_uri": "https://localhost:8080/",
          "height": 174
        },
        "outputId": "a436dab8-5b6a-46c5-bdcd-1482cd88ee3a"
      },
      "source": [
        "frq_items = apriori(basket_Sweden, min_support = 0.05, use_colnames = True) \n",
        "rules = association_rules(frq_items, metric =\"lift\", min_threshold = 1) \n",
        "rules = rules.sort_values(['confidence', 'lift'], ascending =[False, False]) \n",
        "print(rules.head()) "
      ],
      "execution_count": 11,
      "outputs": [
        {
          "output_type": "stream",
          "text": [
            "                        antecedents  ... conviction\n",
            "0     (PACK OF 72 SKULL CAKE CASES)  ...        inf\n",
            "1     (12 PENCILS SMALL TUBE SKULL)  ...        inf\n",
            "4           (36 DOILIES DOLLY GIRL)  ...        inf\n",
            "5    (ASSORTED BOTTLE TOP  MAGNETS)  ...        inf\n",
            "180  (CHILDRENS CUTLERY DOLLY GIRL)  ...        inf\n",
            "\n",
            "[5 rows x 9 columns]\n"
          ],
          "name": "stdout"
        }
      ]
    }
  ]
}